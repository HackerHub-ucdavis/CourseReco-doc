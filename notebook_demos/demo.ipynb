{
 "cells": [
  {
   "cell_type": "code",
   "execution_count": 1,
   "metadata": {},
   "outputs": [],
   "source": [
    "import pandas as pd\n",
    "import numpy as np\n",
    "from sklearn.feature_extraction.text import CountVectorizer\n",
    "from sklearn.metrics.pairwise import cosine_similarity\n",
    "import matplotlib.pyplot as plt\n",
    "import seaborn as sns"
   ]
  },
  {
   "cell_type": "markdown",
   "metadata": {},
   "source": [
    "# Course Recommender System\n",
    "\n",
    "## Data Prep\n",
    "\n",
    "This notebook serves as a basic explanation behind the reco-engine.\n",
    "Here we demonstrates the basic algorithm with a very small subset of the UCD course data."
   ]
  },
  {
   "cell_type": "code",
   "execution_count": 2,
   "metadata": {},
   "outputs": [
    {
     "data": {
      "text/html": [
       "<div>\n",
       "<style scoped>\n",
       "    .dataframe tbody tr th:only-of-type {\n",
       "        vertical-align: middle;\n",
       "    }\n",
       "\n",
       "    .dataframe tbody tr th {\n",
       "        vertical-align: top;\n",
       "    }\n",
       "\n",
       "    .dataframe thead th {\n",
       "        text-align: right;\n",
       "    }\n",
       "</style>\n",
       "<table border=\"1\" class=\"dataframe\">\n",
       "  <thead>\n",
       "    <tr style=\"text-align: right;\">\n",
       "      <th></th>\n",
       "      <th>code</th>\n",
       "      <th>name</th>\n",
       "      <th>description</th>\n",
       "      <th>prereq</th>\n",
       "    </tr>\n",
       "  </thead>\n",
       "  <tbody>\n",
       "    <tr>\n",
       "      <th>0</th>\n",
       "      <td>ECS 120</td>\n",
       "      <td>Theory of Computation</td>\n",
       "      <td>Fundamental ideas in the theory of computation...</td>\n",
       "      <td>\"(ECS 020 or MAT 108); (ECS 32B or ECS 36C Re...</td>\n",
       "    </tr>\n",
       "    <tr>\n",
       "      <th>1</th>\n",
       "      <td>ECS 122A</td>\n",
       "      <td>Algorithm Design &amp; Analysis</td>\n",
       "      <td>Complexity of algorithms bounds on complexity ...</td>\n",
       "      <td>ECS 020; (ECS 060 or ECS 032B or ECS 036C)</td>\n",
       "    </tr>\n",
       "    <tr>\n",
       "      <th>2</th>\n",
       "      <td>ECS 154</td>\n",
       "      <td>Computer Architecture</td>\n",
       "      <td>Introduction to digital design. Interfacing of...</td>\n",
       "      <td>ECS 050 or EEC 070</td>\n",
       "    </tr>\n",
       "    <tr>\n",
       "      <th>3</th>\n",
       "      <td>ECS 132</td>\n",
       "      <td>Probability &amp; Statistical Modeling for Compute...</td>\n",
       "      <td>Univariate and multivariate distributions. Est...</td>\n",
       "      <td>(ECS 040 or ECS 034 or ECS 036B); ECS 020; MAT...</td>\n",
       "    </tr>\n",
       "    <tr>\n",
       "      <th>4</th>\n",
       "      <td>MAT 135A</td>\n",
       "      <td>Probability (4 units)</td>\n",
       "      <td>Probability space; discrete probability combin...</td>\n",
       "      <td>MAT 021C; (MAT 108 or MAT 067)</td>\n",
       "    </tr>\n",
       "    <tr>\n",
       "      <th>5</th>\n",
       "      <td>STA 131A</td>\n",
       "      <td>Introduction to Probability Theory</td>\n",
       "      <td>Fundamental concepts of probability theory dis...</td>\n",
       "      <td>MAT 021C C- or better; (MAT 022A C- or better ...</td>\n",
       "    </tr>\n",
       "    <tr>\n",
       "      <th>6</th>\n",
       "      <td>ECS 122B</td>\n",
       "      <td>Algorithm Design &amp; Analysis</td>\n",
       "      <td>Theory and practice of hard problems and probl...</td>\n",
       "      <td>ECS 122A; (ECS 060 or ECS 034 or ECS 036C).</td>\n",
       "    </tr>\n",
       "  </tbody>\n",
       "</table>\n",
       "</div>"
      ],
      "text/plain": [
       "       code                                               name  \\\n",
       "0   ECS 120                              Theory of Computation   \n",
       "1  ECS 122A                        Algorithm Design & Analysis   \n",
       "2   ECS 154                              Computer Architecture   \n",
       "3   ECS 132  Probability & Statistical Modeling for Compute...   \n",
       "4  MAT 135A                              Probability (4 units)   \n",
       "5  STA 131A                 Introduction to Probability Theory   \n",
       "6  ECS 122B                        Algorithm Design & Analysis   \n",
       "\n",
       "                                         description  \\\n",
       "0  Fundamental ideas in the theory of computation...   \n",
       "1  Complexity of algorithms bounds on complexity ...   \n",
       "2  Introduction to digital design. Interfacing of...   \n",
       "3  Univariate and multivariate distributions. Est...   \n",
       "4  Probability space; discrete probability combin...   \n",
       "5  Fundamental concepts of probability theory dis...   \n",
       "6  Theory and practice of hard problems and probl...   \n",
       "\n",
       "                                              prereq  \n",
       "0   \"(ECS 020 or MAT 108); (ECS 32B or ECS 36C Re...  \n",
       "1         ECS 020; (ECS 060 or ECS 032B or ECS 036C)  \n",
       "2                                 ECS 050 or EEC 070  \n",
       "3  (ECS 040 or ECS 034 or ECS 036B); ECS 020; MAT...  \n",
       "4                     MAT 021C; (MAT 108 or MAT 067)  \n",
       "5  MAT 021C C- or better; (MAT 022A C- or better ...  \n",
       "6        ECS 122A; (ECS 060 or ECS 034 or ECS 036C).  "
      ]
     },
     "execution_count": 2,
     "metadata": {},
     "output_type": "execute_result"
    }
   ],
   "source": [
    "df = pd.read_csv(\"./data/demo_data.csv\", sep=\",\")\n",
    "df"
   ]
  },
  {
   "cell_type": "markdown",
   "metadata": {},
   "source": [
    "## Similarity Matrix\n",
    "\n",
    "After loading the course data, we calculate a similarity matrix based on the verbal description.\n",
    "For simplicity, we will use cosine similarity here.\n",
    "Further improvement could be done using advanced NLP embedding technics and/or similarity norm function."
   ]
  },
  {
   "cell_type": "code",
   "execution_count": 3,
   "metadata": {},
   "outputs": [],
   "source": [
    "cv = CountVectorizer()\n",
    "count_matrix = cv.fit_transform(df[\"description\"])\n",
    "cosine_sim = cosine_similarity(count_matrix)"
   ]
  },
  {
   "cell_type": "markdown",
   "metadata": {},
   "source": [
    "visualize the similarity matrix of course descriptions."
   ]
  },
  {
   "cell_type": "code",
   "execution_count": 4,
   "metadata": {},
   "outputs": [
    {
     "data": {
      "image/png": "[encoded data removed]",
      "text/plain": [
       "<Figure size 432x288 with 2 Axes>"
      ]
     },
     "metadata": {
      "needs_background": "light"
     },
     "output_type": "display_data"
    }
   ],
   "source": [
    "ax = sns.heatmap(\n",
    "    cosine_sim,\n",
    "    cmap='RdBu',\n",
    "    vmin=0, vmax=1,\n",
    "    annot=True,\n",
    "    xticklabels=df['code'], yticklabels=df['code']\n",
    ")\n",
    "plt.show()\n"
   ]
  },
  {
   "cell_type": "markdown",
   "metadata": {},
   "source": [
    "## Making Recommendations\n",
    "\n",
    "Then we make the recommendation based on one of the user's liked course in the past and the similarity between it and other courses."
   ]
  },
  {
   "cell_type": "code",
   "execution_count": 5,
   "metadata": {},
   "outputs": [
    {
     "data": {
      "text/plain": [
       "4"
      ]
     },
     "execution_count": 5,
     "metadata": {},
     "output_type": "execute_result"
    }
   ],
   "source": [
    "liked_course = \"MAT 135A\"\n",
    "course_index = df[df.code == liked_course].index.values[0]\n",
    "course_index"
   ]
  },
  {
   "cell_type": "markdown",
   "metadata": {},
   "source": [
    "Find out a list of courses, sort them based on the similarity score from high to low."
   ]
  },
  {
   "cell_type": "code",
   "execution_count": 6,
   "metadata": {},
   "outputs": [
    {
     "data": {
      "text/plain": [
       "[(4, 1.0),\n",
       " (5, 0.5788077248559672),\n",
       " (6, 0.2007387671367415),\n",
       " (3, 0.15975241260567344),\n",
       " (2, 0.09422229518055114),\n",
       " (0, 0.09095085938862486),\n",
       " (1, 0.04351941398892446)]"
      ]
     },
     "execution_count": 6,
     "metadata": {},
     "output_type": "execute_result"
    }
   ],
   "source": [
    "similar_courses = list(enumerate(cosine_sim[course_index]))\n",
    "sorted_similar_courses = sorted(similar_courses, key=lambda x:x[1], reverse=True)\n",
    "sorted_similar_courses"
   ]
  },
  {
   "cell_type": "code",
   "execution_count": 7,
   "metadata": {},
   "outputs": [
    {
     "data": {
      "text/plain": [
       "4    MAT 135A\n",
       "5    STA 131A\n",
       "6    ECS 122B\n",
       "3     ECS 132\n",
       "2     ECS 154\n",
       "0     ECS 120\n",
       "1    ECS 122A\n",
       "Name: code, dtype: object"
      ]
     },
     "execution_count": 7,
     "metadata": {},
     "output_type": "execute_result"
    }
   ],
   "source": [
    "idx = [i for i, _ in sorted_similar_courses]\n",
    "course_list = df.iloc[idx][\"code\"]\n",
    "course_list"
   ]
  },
  {
   "cell_type": "markdown",
   "metadata": {},
   "source": [
    "Choose then top `k` course from the above list, which will be our recommendations!"
   ]
  },
  {
   "cell_type": "code",
   "execution_count": 8,
   "metadata": {},
   "outputs": [
    {
     "data": {
      "text/plain": [
       "5    STA 131A\n",
       "6    ECS 122B\n",
       "3     ECS 132\n",
       "Name: code, dtype: object"
      ]
     },
     "execution_count": 8,
     "metadata": {},
     "output_type": "execute_result"
    }
   ],
   "source": [
    "k = 3\n",
    "course_list[1:1+k]"
   ]
  }
 ],
 "metadata": {
  "kernelspec": {
   "display_name": "Python 3.9.12 ('base')",
   "language": "python",
   "name": "python3"
  },
  "language_info": {
   "codemirror_mode": {
    "name": "ipython",
    "version": 3
   },
   "file_extension": ".py",
   "mimetype": "text/x-python",
   "name": "python",
   "nbconvert_exporter": "python",
   "pygments_lexer": "ipython3",
   "version": "3.9.12"
  },
  "orig_nbformat": 4,
  "vscode": {
   "interpreter": {
    "hash": "c6e4e9f98eb68ad3b7c296f83d20e6de614cb42e90992a65aa266555a3137d0d"
   }
  }
 },
 "nbformat": 4,
 "nbformat_minor": 2
}
